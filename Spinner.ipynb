{
 "cells": [
  {
   "cell_type": "code",
   "execution_count": null,
   "metadata": {},
   "outputs": [],
   "source": [
    "from turtle import *\n",
    "state = {'turn':0}  #Dictionary variable in which we store the value of rotation.\n",
    "#Dictionary will be taught later.So don't worry about that.\n",
    "\n",
    "def spinner():  \n",
    "    \"Draw fidget spinner.\"\n",
    "    clear()   #For clearing the old content for drawing new spinner state\n",
    "    angle = state[0] / 10   #finding the angle to rotate\n",
    "    right(angle)  \n",
    "    forward(100)\n",
    "    dot(120, 'red')  #for making dot of 120 radius and red color.\n",
    "    back(100)        #for again coming to the initial position for accessing the other hands of the spinner.\n",
    "    right(120)\n",
    "    forward(100)\n",
    "    dot(120, 'green')\n",
    "    back(100)\n",
    "    right(120)\n",
    "    forward(100)\n",
    "    dot(120, 'blue')\n",
    "    back(100)\n",
    "    right(120)\n",
    "    update()  #for updating the screen \n",
    "\n",
    "def animate():\n",
    "    \"Animate fidget spinner.\"\n",
    "    if state['turn'] > 0:  #Each time the value of will get decreases, so that the spinner will get slow.\n",
    "        state['turn'] -= 1\n",
    "\n",
    "    spinner()  #Calling the spinner function that we made above\n",
    "    ontimer(animate, 20) #For setting the time period for rotation. \n",
    "\n",
    "def flick(): # Function to change the speed of spinner.\n",
    "    state['turn'] += 50  #When pressing space this function will change the state of the spinner by 50.\n",
    "\n",
    "setup(420, 420, 370, 0) # for setup the game window\n",
    "hideturtle()  #for hiding the turtle pointer \n",
    "tracer(False)  #for changing the spinner state smoothly\n",
    "width(20)  #line width (basically black line in spinner)\n",
    "onkey(flick, 'space') #calling a function flick which we made above upon pressing space\n",
    "listen()  #for detection of space pressing by the user\n",
    "animate() #calling animate function that we have made above\n",
    "done() #Terminating statement"
   ]
  }
 ],
 "metadata": {
  "kernelspec": {
   "display_name": "Python 3",
   "language": "python",
   "name": "python3"
  },
  "language_info": {
   "codemirror_mode": {
    "name": "ipython",
    "version": 3
   },
   "file_extension": ".py",
   "mimetype": "text/x-python",
   "name": "python",
   "nbconvert_exporter": "python",
   "pygments_lexer": "ipython3",
   "version": "3.7.6"
  }
 },
 "nbformat": 4,
 "nbformat_minor": 4
}
